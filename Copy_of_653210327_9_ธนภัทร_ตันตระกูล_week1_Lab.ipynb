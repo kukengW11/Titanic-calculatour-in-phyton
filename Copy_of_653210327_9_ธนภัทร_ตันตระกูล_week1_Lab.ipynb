{
  "nbformat": 4,
  "nbformat_minor": 0,
  "metadata": {
    "colab": {
      "provenance": []
    },
    "kernelspec": {
      "name": "python3",
      "display_name": "Python 3"
    },
    "language_info": {
      "name": "python"
    }
  },
  "cells": [
    {
      "cell_type": "code",
      "execution_count": null,
      "metadata": {
        "colab": {
          "base_uri": "https://localhost:8080/"
        },
        "id": "oU137zfukH5k",
        "outputId": "55134d7c-13d3-4f23-dde6-4dfb99116b79"
      },
      "outputs": [
        {
          "output_type": "stream",
          "name": "stdout",
          "text": [
            "จำนวนผู้โดยสารทั้งหมดในเรือไททานิก: 891 คน\n",
            "จำนวนผู้โดยสารที่รอดชีวิต: 342 คน\n",
            "จำนวนผู้โดยสารที่ไม่รอดชีวิต: 549 คน\n",
            "อายุเฉลี่ยของผู้โดยสารบนเรือ: 29.70 ปี\n",
            "จำนวนผู้โดยสารชาย: 577 คน\n",
            "จำนวนผู้โดยสารหญิง: 314 คน\n",
            "เปอร์เซ็นต์การรอดชีวิตของผู้โดยสารตามเพศ:\n",
            "Sex\n",
            "female    74.203822\n",
            "male      18.890815\n",
            "Name: Survived, dtype: float64\n",
            "การกระจายตัวของชั้นผู้โดยสารบนเรือไททานิก:\n",
            "3    491\n",
            "1    216\n",
            "2    184\n",
            "Name: Pclass, dtype: int64\n",
            "ค่าโดยสารเฉลี่ยที่ผู้โดยสารในแต่ละชั้นจ่าย:\n",
            "Pclass\n",
            "1    84.154687\n",
            "2    20.662183\n",
            "3    13.675550\n",
            "Name: Fare, dtype: float64\n",
            "อัตราการรอดชีวิตของผู้โดยสารในแต่ละชั้น:\n",
            "Pclass\n",
            "1    62.962963\n",
            "2    47.282609\n",
            "3    24.236253\n",
            "Name: Survived, dtype: float64\n",
            "เปอร์เซ็นต์ของผู้โดยสารที่มีพี่น้องหรือคู่สมรสอยู่บนเรือ: 52.30%\n",
            "อายุเฉลี่ยของผู้โดยสารที่รอดชีวิต: 28.34 ปี\n",
            "อายุเฉลี่ยของผู้โดยสารที่ไม่รอดชีวิต: 30.63 ปี\n"
          ]
        }
      ],
      "source": [
        "import pandas as pd\n",
        "file_path = 'https://raw.githubusercontent.com/kaopanboonyuen/SC310005_ArtificialIntelligence_2023s1/main/dataset/titanic_dataset.csv'\n",
        "\n",
        "df = pd.read_csv(file_path)\n",
        "\n",
        "# Q1: จำนวนผู้โดยสารทั้งหมด\n",
        "total_passengers = len(df)\n",
        "print(f\"จำนวนผู้โดยสารทั้งหมดในเรือไททานิก: {total_passengers} คน\")\n",
        "\n",
        "# Q2: จำนวนผู้โดยสารที่รอดชีวิตและไม่รอดชีวิต\n",
        "survived_count = df['Survived'].sum()\n",
        "not_survived_count = total_passengers - survived_count\n",
        "print(f\"จำนวนผู้โดยสารที่รอดชีวิต: {survived_count} คน\")\n",
        "print(f\"จำนวนผู้โดยสารที่ไม่รอดชีวิต: {not_survived_count} คน\")\n",
        "\n",
        "# Q3: อายุเฉลี่ยของผู้โดยสาร\n",
        "average_age = df['Age'].mean()\n",
        "print(f\"อายุเฉลี่ยของผู้โดยสารบนเรือ: {average_age:.2f} ปี\")\n",
        "\n",
        "# Q4: จำนวนผู้โดยสารชายและหญิง\n",
        "sex_count = df['Sex'].value_counts()\n",
        "print(f\"จำนวนผู้โดยสารชาย: {sex_count['male']} คน\")\n",
        "print(f\"จำนวนผู้โดยสารหญิง: {sex_count['female']} คน\")\n",
        "\n",
        "# Q5: เปอร์เซ็นต์การรอดชีวิตของผู้โดยสารตามเพศ\n",
        "survival_by_sex = df.groupby('Sex')['Survived'].mean() * 100\n",
        "print(\"เปอร์เซ็นต์การรอดชีวิตของผู้โดยสารตามเพศ:\")\n",
        "print(survival_by_sex)\n",
        "\n",
        "# Q6: การกระจายตัวของชั้นผู้โดยสาร\n",
        "class_distribution = df['Pclass'].value_counts()\n",
        "print(\"การกระจายตัวของชั้นผู้โดยสารบนเรือไททานิก:\")\n",
        "print(class_distribution)\n",
        "\n",
        "# Q7: ค่าโดยสารเฉลี่ยที่ผู้โดยสารแต่ละชั้นจ่าย\n",
        "average_fare_per_class = df.groupby('Pclass')['Fare'].mean()\n",
        "print(\"ค่าโดยสารเฉลี่ยที่ผู้โดยสารในแต่ละชั้นจ่าย:\")\n",
        "print(average_fare_per_class)\n",
        "\n",
        "# Q8: อัตราการรอดชีวิตของผู้โดยสารในแต่ละชั้น\n",
        "survival_rate_per_class = df.groupby('Pclass')['Survived'].mean() * 100\n",
        "print(\"อัตราการรอดชีวิตของผู้โดยสารในแต่ละชั้น:\")\n",
        "print(survival_rate_per_class)\n",
        "\n",
        "# Q9: เปอร์เซ็นต์ของผู้โดยสารที่มีพี่น้องหรือคู่สมรสอยู่บนเรือ\n",
        "sibsp_count = df['SibSp'].sum()\n",
        "percentage_with_siblings = (sibsp_count / total_passengers) * 100\n",
        "print(f\"เปอร์เซ็นต์ของผู้โดยสารที่มีพี่น้องหรือคู่สมรสอยู่บนเรือ: {percentage_with_siblings:.2f}%\")\n",
        "\n",
        "# Q10: อายุเฉลี่ยของผู้โดยสารที่รอดชีวิตและที่ไม่รอดชีวิต\n",
        "average_age_survived = df[df['Survived'] == 1]['Age'].mean()\n",
        "average_age_not_survived = df[df['Survived'] == 0]['Age'].mean()\n",
        "print(f\"อายุเฉลี่ยของผู้โดยสารที่รอดชีวิต: {average_age_survived:.2f} ปี\")\n",
        "print(f\"อายุเฉลี่ยของผู้โดยสารที่ไม่รอดชีวิต: {average_age_not_survived:.2f} ปี\")\n"
      ]
    }
  ]
}